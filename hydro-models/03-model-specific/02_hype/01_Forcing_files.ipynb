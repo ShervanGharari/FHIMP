{
 "cells": [
  {
   "cell_type": "markdown",
   "id": "549645a9-c3ca-4d64-aaf9-e9c99f7b39ec",
   "metadata": {},
   "source": [
    "# Conversion of forcing created for MESH to HYPE nc or txt format for model simulation.\n",
    "## nc creation is based on this page:\n",
    "http://www.smhi.net/hype/wiki/doku.php?id=start:hype_file_reference:nnobs.nc"
   ]
  },
  {
   "cell_type": "code",
   "execution_count": 1,
   "id": "4ad8be20-040a-4dbf-8039-4d8cd36f47ed",
   "metadata": {},
   "outputs": [],
   "source": [
    "# packages are loaded\n",
    "import xarray as xr\n",
    "import pint_xarray\n",
    "import glob\n",
    "import netCDF4 as nc4\n",
    "import os\n",
    "import sys\n",
    "import pandas as pd\n",
    "from   easymore import Utility as esmrut\n",
    "import subprocess\n",
    "import pint\n",
    "_ureg = pint.UnitRegistry(force_ndarray_like=True)\n",
    "_ureg.define('millibar = 1e-3 * bar')"
   ]
  },
  {
   "cell_type": "code",
   "execution_count": 2,
   "id": "83f85b81-9e5f-4d87-8e28-96456da3004d",
   "metadata": {},
   "outputs": [],
   "source": [
    "# inputs\n",
    "# Set the folder path where the remapped .nc file is located for MESH (it can be any remapped nc file)\n",
    "nc_file_source = '/home/shg096/scratch/test/easymore_outputs/remapped_ERA5/*.nc'\n",
    "path_to_save = '/home/shg096/scratch/test/HYPE/'\n",
    "\n",
    "if not os.path.isdir(path_to_save):\n",
    "    os.makedirs(path_to_save)"
   ]
  },
  {
   "cell_type": "code",
   "execution_count": 3,
   "id": "51b40ecd-2beb-4abe-8161-984ccb77ac50",
   "metadata": {},
   "outputs": [
    {
     "name": "stderr",
     "output_type": "stream",
     "text": [
      "/bin/sh: load: command not found\n",
      "\n",
      "cdo    mergetime (Abort): Outputfile /home/shg096/scratch/test/HYPE/outfile.nc already exists!\n"
     ]
    }
   ],
   "source": [
    "# step 1 - merge the remapped files\n",
    "outfile = path_to_save+'outfile.nc'\n",
    "command = 'load cdo; cdo mergetime '+nc_file_source+' '+outfile\n",
    "subprocess.run(command, shell=True)\n",
    "# load ds\n",
    "ds = xr.open_dataset(outfile)"
   ]
  },
  {
   "cell_type": "code",
   "execution_count": 7,
   "id": "1bf89efd-38a9-4544-bffb-97995159720d",
   "metadata": {},
   "outputs": [],
   "source": [
    "# Drop all variables except needed variables\n",
    "ds_Pobs = ds.drop_vars([var for var in ds.variables if var not in ['time', 'COMID', 'latitude', 'longitude', 'pptrate']])\n",
    "\n",
    "\n",
    "# aggregate from hourly to daily\n",
    "ds_Pobs  = esmrut.agg_hourl_to_daily (ds_Pobs, offset=3, stat='mean')\n",
    "\n",
    "# change the unit for the target variables\n",
    "ds_Pobs  = esmrut.convert_units(ds_Pobs,\n",
    "                                units = {'pptrate':'mm s**-1'},\n",
    "                                unit_registry = _ureg,\n",
    "                                to_units= {'pptrate':'mm day**-1'})\n",
    "\n",
    "# rename the variable\n",
    "ds_Pobs = ds_Pobs.rename({'pptrate': 'Pobs'})\n",
    "ds_Pobs = ds_Pobs.rename({'COMID': 'id'})\n",
    "ds_Pobs.to_netcdf(path_to_save+'Pobs.nc')\n",
    "\n",
    "df_Pobs = pd.DataFrame(ds_Pobs['Pobs'].values, index=ds_Pobs['time'], columns=ds_Pobs['id'])\n",
    "df_Pobs.index.name = 'time'\n",
    "df_Pobs.to_csv(path_to_save+'Pobs.cav', sep='\\t', na_rep='', index_label='time', float_format='%.3f')\n"
   ]
  },
  {
   "cell_type": "code",
   "execution_count": 10,
   "id": "4949e656-cfde-4612-a6b3-79b7595ee728",
   "metadata": {},
   "outputs": [],
   "source": [
    "# Drop all variables except needed variables\n",
    "ds_TMAXobs = ds.drop_vars([var for var in ds.variables if var not in ['time', 'COMID', 'latitude', 'longitude', 'airtemp']])\n",
    "\n",
    "\n",
    "# aggregate from hourly to daily\n",
    "ds_TMAXobs  = esmrut.agg_hourl_to_daily (ds_TMAXobs, offset=3, stat='max')\n",
    "\n",
    "# change the unit for the target variables\n",
    "ds_TMAXobs  = esmrut.convert_units(ds_TMAXobs,\n",
    "                                   units = {'airtemp':'kelvin'},\n",
    "                                   unit_registry = _ureg,\n",
    "                                   to_units= {'airtemp':'degC'})\n",
    "\n",
    "# rename the variable\n",
    "ds_TMAXobs = ds_TMAXobs.rename({'airtemp': 'TMAXobs'})\n",
    "ds_TMAXobs = ds_TMAXobs.rename({'COMID': 'id'})\n",
    "ds_TMAXobs.to_netcdf(path_to_save+'TMAXobs.nc')\n",
    "\n",
    "# save the values\n",
    "df_TMAXobs = pd.DataFrame(ds_TMAXobs['TMAXobs'].values, index=ds_TMAXobs['time'], columns=ds_TMAXobs['id'])\n",
    "df_TMAXobs.index.name = 'time'\n",
    "df_TMAXobs.to_csv(path_to_save+'TMAXobs.cav', sep='\\t', na_rep='', index_label='time', float_format='%.3f')\n"
   ]
  },
  {
   "cell_type": "code",
   "execution_count": 11,
   "id": "f918ec9c-2a20-4a48-b68a-8130fa7a38f4",
   "metadata": {},
   "outputs": [],
   "source": [
    "# Drop all variables except needed variables\n",
    "ds_TMINobs = ds.drop_vars([var for var in ds.variables if var not in ['time', 'COMID', 'latitude', 'longitude', 'airtemp']])\n",
    "\n",
    "\n",
    "# aggregate from hourly to daily\n",
    "ds_TMINobs  = esmrut.agg_hourl_to_daily (ds_TMINobs, offset=3, stat='min')\n",
    "\n",
    "# change the unit for the target variables\n",
    "ds_TMINobs  = esmrut.convert_units(ds_TMINobs,\n",
    "                                   units = {'airtemp':'kelvin'},\n",
    "                                   unit_registry = _ureg,\n",
    "                                   to_units= {'airtemp':'degC'})\n",
    "\n",
    "# rename the variable and save\n",
    "ds_TMINobs = ds_TMINobs.rename({'airtemp': 'TMINobs'})\n",
    "ds_TMINobs = ds_TMINobs.rename({'COMID': 'id'})\n",
    "ds_TMINobs.to_netcdf(path_to_save+'TMINobs.nc')\n",
    "\n",
    "# save the dataframe for no index version\n",
    "df_TMINobs = pd.DataFrame(ds_TMINobs['TMINobs'].values, index=ds_TMINobs['time'], columns=ds_TMINobs['id'])\n",
    "df_TMINobs.index.name = 'time'\n",
    "df_TMINobs.to_csv(path_to_save+'TMINobs.cav', sep='\\t', na_rep='', index_label='time', float_format='%.3f')\n"
   ]
  },
  {
   "cell_type": "code",
   "execution_count": null,
   "id": "0d272528-da20-4cab-803c-ffe2b75cb73b",
   "metadata": {},
   "outputs": [],
   "source": []
  }
 ],
 "metadata": {
  "kernelspec": {
   "display_name": "fhimp_venv",
   "language": "python",
   "name": "fhimp_venv"
  },
  "language_info": {
   "codemirror_mode": {
    "name": "ipython",
    "version": 3
   },
   "file_extension": ".py",
   "mimetype": "text/x-python",
   "name": "python",
   "nbconvert_exporter": "python",
   "pygments_lexer": "ipython3",
   "version": "3.10.2"
  }
 },
 "nbformat": 4,
 "nbformat_minor": 5
}
